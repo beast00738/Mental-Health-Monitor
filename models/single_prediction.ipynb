{
  "cells": [
    {
      "cell_type": "markdown",
      "source": [
        "# Downloading The Trained Model"
      ],
      "metadata": {
        "id": "8yzgc3n410ny"
      },
      "id": "8yzgc3n410ny"
    },
    {
      "cell_type": "code",
      "source": [
        "# !pip install kaggle\n",
        "!mkdir ~/.kaggle\n",
        "# download kaggle.json (from kaggle->account->settings->api->new_Token) and upload in colab first\n",
        "!cp /content/kaggle.json ~/.kaggle/kaggle.json\n",
        "!chmod 600 ~/.kaggle/kaggle.json\n",
        "# https://www.kaggle.com/datasets/himanshusahu00738/face-emotion-recognition-model-trained\n",
        "!kaggle datasets download -d himanshusahu00738/face-emotion-recognition-model-trained\n",
        "# relpace the name with downladed zip file name\n",
        "!unzip face-emotion-recognition-model-trained.zip"
      ],
      "metadata": {
        "id": "Zx3JuSnh17RD",
        "colab": {
          "base_uri": "https://localhost:8080/"
        },
        "outputId": "e4bce50f-571e-478c-c1bc-54a4198395b0"
      },
      "execution_count": 1,
      "outputs": [
        {
          "output_type": "stream",
          "name": "stdout",
          "text": [
            "Downloading face-emotion-recognition-model-trained.zip to /content\n",
            "100% 157M/157M [00:00<00:00, 221MB/s]\n",
            "100% 157M/157M [00:00<00:00, 181MB/s]\n",
            "Archive:  face-emotion-recognition-model-trained.zip\n",
            "  inflating: models/cnn_efficientnetb3_model/fingerprint.pb  \n",
            "  inflating: models/cnn_efficientnetb3_model/saved_model.pb  \n",
            "  inflating: models/cnn_efficientnetb3_model/variables/variables.data-00000-of-00001  \n",
            "  inflating: models/cnn_efficientnetb3_model/variables/variables.index  \n",
            "  inflating: models/cnn_efficientnetb3_model_weights.h5  \n",
            "  inflating: single/1.jpg            \n",
            "  inflating: single/10.jpg           \n",
            "  inflating: single/11.jpg           \n",
            "  inflating: single/12.jpg           \n",
            "  inflating: single/13.jpg           \n",
            "  inflating: single/15.png           \n",
            "  inflating: single/2.jpg            \n",
            "  inflating: single/3.jpg            \n",
            "  inflating: single/4.jpg            \n",
            "  inflating: single/8.jpg            \n",
            "  inflating: single/9.jpg            \n"
          ]
        }
      ],
      "id": "Zx3JuSnh17RD"
    },
    {
      "cell_type": "markdown",
      "source": [
        "# Loading the Mdoel"
      ],
      "metadata": {
        "id": "YSrTlps3uxbk"
      },
      "id": "YSrTlps3uxbk"
    },
    {
      "cell_type": "code",
      "source": [
        "import tensorflow as tf\n",
        "loaded_model = tf.saved_model.load('/content/models/cnn_efficientnetb3_model')"
      ],
      "metadata": {
        "id": "i9CEGsgQu0Hf"
      },
      "id": "i9CEGsgQu0Hf",
      "execution_count": 2,
      "outputs": []
    },
    {
      "cell_type": "markdown",
      "source": [
        "# Making Prediction\n"
      ],
      "metadata": {
        "id": "Bv2qqbZfs5l0"
      },
      "id": "Bv2qqbZfs5l0"
    },
    {
      "cell_type": "code",
      "execution_count": 3,
      "id": "71e57c9f",
      "metadata": {
        "colab": {
          "base_uri": "https://localhost:8080/"
        },
        "id": "71e57c9f",
        "outputId": "b8b873c5-8d97-4cc8-a0ae-ed689ee968c2"
      },
      "outputs": [
        {
          "output_type": "stream",
          "name": "stdout",
          "text": [
            "disgusted   1\n"
          ]
        }
      ],
      "source": [
        "import numpy as np\n",
        "import keras.utils as image\n",
        "cnn_model = loaded_model\n",
        "\n",
        "test_image = image.load_img('/content/single/4.jpg', target_size=(48, 48))\n",
        "test_image = image.img_to_array(test_image)\n",
        "test_image = np.expand_dims(test_image, axis=0)\n",
        "\n",
        "# class_indices are not saved in the method u used\n",
        "class_indices = {'angry': 0, 'disgusted': 1, 'fearful': 2, \n",
        "                 'happy': 3, 'neutral': 4, 'sad': 5, 'surprised': 6}\n",
        "\n",
        "result = cnn_model(test_image) # no .predic method needed \n",
        "# print(class_indices)\n",
        "\n",
        "predicted_class_index = np.argmax(result[0])\n",
        "for key, val in class_indices.items():\n",
        "        if val == predicted_class_index:\n",
        "            predicted_class = key\n",
        "\n",
        "print(predicted_class,\" \",predicted_class_index)"
      ]
    }
  ],
  "metadata": {
    "kernelspec": {
      "display_name": "Python 3 (ipykernel)",
      "language": "python",
      "name": "python3"
    },
    "language_info": {
      "codemirror_mode": {
        "name": "ipython",
        "version": 3
      },
      "file_extension": ".py",
      "mimetype": "text/x-python",
      "name": "python",
      "nbconvert_exporter": "python",
      "pygments_lexer": "ipython3",
      "version": "3.11.2"
    },
    "colab": {
      "provenance": []
    }
  },
  "nbformat": 4,
  "nbformat_minor": 5
}