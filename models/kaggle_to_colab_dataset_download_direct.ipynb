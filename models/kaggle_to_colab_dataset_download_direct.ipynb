{
  "nbformat": 4,
  "nbformat_minor": 0,
  "metadata": {
    "colab": {
      "provenance": [],
      "gpuType": "T4"
    },
    "kernelspec": {
      "name": "python3",
      "display_name": "Python 3"
    },
    "language_info": {
      "name": "python"
    },
    "accelerator": "GPU",
    "gpuClass": "standard"
  },
  "cells": [
    {
      "cell_type": "code",
      "source": [
        "#tutorial link=> https://chat.openai.com/c/215e0375-ca6e-402f-873b-576fcd33f709\n",
        "!pip install kaggle\n",
        "!mkdir ~/.kaggle\n",
        "# download kaggle.json (from kaggle->account->settings->api->new_Token) and upload in colab first\n",
        "!cp /content/kaggle.json ~/.kaggle/kaggle.json\n",
        "!chmod 600 ~/.kaggle/kaggle.json\n",
        "# URL => https://www.kaggle.com/datasets/msambare/fer2013\n",
        "!kaggle datasets download -d msambare/fer2013\n",
        "# relpace the name with downladed zip file name\n",
        "!unzip fer2013.zip"
      ],
      "metadata": {
        "id": "p1_ICRGlN3W4"
      },
      "execution_count": null,
      "outputs": []
    }
  ]
}